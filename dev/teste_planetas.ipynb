{
 "cells": [
  {
   "cell_type": "code",
   "execution_count": null,
   "metadata": {},
   "outputs": [
    {
     "name": "stderr",
     "output_type": "stream",
     "text": [
      "[#################################] 100% de421.bsp\n"
     ]
    },
    {
     "ename": "OSError",
     "evalue": "cannot download https://naif.jpl.nasa.gov/pub/naif/generic_kernels/spk/satellites/jupiter-moons.bsp because HTTP Error 404: Not Found",
     "output_type": "error",
     "traceback": [
      "\u001b[0;31m---------------------------------------------------------------------------\u001b[0m",
      "\u001b[0;31mOSError\u001b[0m                                   Traceback (most recent call last)",
      "Cell \u001b[0;32mIn[1], line 6\u001b[0m\n\u001b[1;32m      4\u001b[0m \u001b[38;5;66;03m# Load ephemeris data\u001b[39;00m\n\u001b[1;32m      5\u001b[0m planets \u001b[38;5;241m=\u001b[39m load(\u001b[38;5;124m'\u001b[39m\u001b[38;5;124mde421.bsp\u001b[39m\u001b[38;5;124m'\u001b[39m)  \u001b[38;5;66;03m# JPL's DE421 ephemeris for major solar system bodies\u001b[39;00m\n\u001b[0;32m----> 6\u001b[0m moons \u001b[38;5;241m=\u001b[39m \u001b[43mload\u001b[49m\u001b[43m(\u001b[49m\u001b[38;5;124;43m'\u001b[39;49m\u001b[38;5;124;43mjupiter-moons.bsp\u001b[39;49m\u001b[38;5;124;43m'\u001b[39;49m\u001b[43m)\u001b[49m  \u001b[38;5;66;03m# Ephemeris for Jupiter's and Saturn's moons\u001b[39;00m\n\u001b[1;32m      8\u001b[0m \u001b[38;5;66;03m# Time scale for current time\u001b[39;00m\n\u001b[1;32m      9\u001b[0m ts \u001b[38;5;241m=\u001b[39m load\u001b[38;5;241m.\u001b[39mtimescale()\n",
      "File \u001b[0;32m~/miniconda3/lib/python3.12/site-packages/skyfield/iokit.py:193\u001b[0m, in \u001b[0;36mLoader.__call__\u001b[0;34m(self, filename, reload, backup, builtin)\u001b[0m\n\u001b[1;32m    190\u001b[0m     f \u001b[38;5;241m=\u001b[39m BytesIO(get_data(\u001b[38;5;124m'\u001b[39m\u001b[38;5;124mskyfield.data\u001b[39m\u001b[38;5;124m'\u001b[39m, filename))\n\u001b[1;32m    191\u001b[0m     \u001b[38;5;28;01mreturn\u001b[39;00m parser(f)\n\u001b[0;32m--> 193\u001b[0m path \u001b[38;5;241m=\u001b[39m \u001b[38;5;28;43mself\u001b[39;49m\u001b[38;5;241;43m.\u001b[39;49m\u001b[43m_assure\u001b[49m\u001b[43m(\u001b[49m\u001b[43murl\u001b[49m\u001b[43m,\u001b[49m\u001b[43m \u001b[49m\u001b[43mfilename\u001b[49m\u001b[43m,\u001b[49m\u001b[43m \u001b[49m\u001b[43mreload\u001b[49m\u001b[43m,\u001b[49m\u001b[43m \u001b[49m\u001b[43mbackup\u001b[49m\u001b[43m)\u001b[49m\n\u001b[1;32m    195\u001b[0m \u001b[38;5;28;01mif\u001b[39;00m parser \u001b[38;5;129;01mis\u001b[39;00m \u001b[38;5;129;01mnot\u001b[39;00m \u001b[38;5;28;01mNone\u001b[39;00m:\n\u001b[1;32m    196\u001b[0m     \u001b[38;5;28mself\u001b[39m\u001b[38;5;241m.\u001b[39m_log(\u001b[38;5;124m'\u001b[39m\u001b[38;5;124m  Parsing with \u001b[39m\u001b[38;5;132;01m{0}\u001b[39;00m\u001b[38;5;124m()\u001b[39m\u001b[38;5;124m'\u001b[39m, parser\u001b[38;5;241m.\u001b[39m\u001b[38;5;18m__name__\u001b[39m)\n",
      "File \u001b[0;32m~/miniconda3/lib/python3.12/site-packages/skyfield/iokit.py:214\u001b[0m, in \u001b[0;36mLoader._assure\u001b[0;34m(self, url, filename, reload, backup)\u001b[0m\n\u001b[1;32m    211\u001b[0m         \u001b[38;5;28;01mraise\u001b[39;00m \u001b[38;5;167;01mValueError\u001b[39;00m(\u001b[38;5;124m'\u001b[39m\u001b[38;5;124mSkyfield does not know where to download \u001b[39m\u001b[38;5;132;01m{!r}\u001b[39;00m\u001b[38;5;124m'\u001b[39m\n\u001b[1;32m    212\u001b[0m                          \u001b[38;5;241m.\u001b[39mformat(filename))\n\u001b[1;32m    213\u001b[0m     \u001b[38;5;28mself\u001b[39m\u001b[38;5;241m.\u001b[39m_log(\u001b[38;5;124m'\u001b[39m\u001b[38;5;124m  Downloading \u001b[39m\u001b[38;5;132;01m{0}\u001b[39;00m\u001b[38;5;124m'\u001b[39m, url)\n\u001b[0;32m--> 214\u001b[0m     \u001b[43mdownload\u001b[49m\u001b[43m(\u001b[49m\u001b[43murl\u001b[49m\u001b[43m,\u001b[49m\u001b[43m \u001b[49m\u001b[43mpath\u001b[49m\u001b[43m,\u001b[49m\u001b[43m \u001b[49m\u001b[38;5;28;43mself\u001b[39;49m\u001b[38;5;241;43m.\u001b[39;49m\u001b[43mverbose\u001b[49m\u001b[43m,\u001b[49m\u001b[43m \u001b[49m\u001b[43mbackup\u001b[49m\u001b[38;5;241;43m=\u001b[39;49m\u001b[43mbackup\u001b[49m\u001b[43m)\u001b[49m\n\u001b[1;32m    215\u001b[0m \u001b[38;5;28;01mreturn\u001b[39;00m path\n",
      "File \u001b[0;32m~/miniconda3/lib/python3.12/site-packages/skyfield/iokit.py:525\u001b[0m, in \u001b[0;36mdownload\u001b[0;34m(url, path, verbose, blocksize, backup)\u001b[0m\n\u001b[1;32m    523\u001b[0m     e2 \u001b[38;5;241m=\u001b[39m \u001b[38;5;167;01mIOError\u001b[39;00m(\u001b[38;5;124m'\u001b[39m\u001b[38;5;124mcannot download \u001b[39m\u001b[38;5;132;01m{0}\u001b[39;00m\u001b[38;5;124m because \u001b[39m\u001b[38;5;132;01m{1}\u001b[39;00m\u001b[38;5;124m'\u001b[39m\u001b[38;5;241m.\u001b[39mformat(url, e))\n\u001b[1;32m    524\u001b[0m     e2\u001b[38;5;241m.\u001b[39m__cause__ \u001b[38;5;241m=\u001b[39m \u001b[38;5;28;01mNone\u001b[39;00m\n\u001b[0;32m--> 525\u001b[0m     \u001b[38;5;28;01mraise\u001b[39;00m e2\n\u001b[1;32m    527\u001b[0m \u001b[38;5;28;01mif\u001b[39;00m verbose \u001b[38;5;129;01mis\u001b[39;00m \u001b[38;5;28;01mNone\u001b[39;00m:\n\u001b[1;32m    528\u001b[0m     verbose \u001b[38;5;241m=\u001b[39m sys\u001b[38;5;241m.\u001b[39mstderr\u001b[38;5;241m.\u001b[39misatty()\n",
      "\u001b[0;31mOSError\u001b[0m: cannot download https://naif.jpl.nasa.gov/pub/naif/generic_kernels/spk/satellites/jupiter-moons.bsp because HTTP Error 404: Not Found"
     ]
    }
   ],
   "source": [
    "from skyfield.api import Topos, load\n",
    "from datetime import datetime\n",
    "\n",
    "# Load ephemeris data\n",
    "planets = load('de421.bsp')  # JPL's DE421 ephemeris for major solar system bodies\n",
    "\n",
    "# Time scale for current time\n",
    "ts = load.timescale()\n",
    "current_time = ts.now()\n",
    "\n",
    "# Dictionary of bodies in ephemeris files\n",
    "bodies = {\n",
    "    \"Sun\": planets['sun'],\n",
    "    \"Mercury\": planets['mercury'],\n",
    "    \"Venus\": planets['venus'],\n",
    "    \"Earth\": planets['earth'],\n",
    "    \"Earth's Moon\": planets['moon'],\n",
    "    \"Mars\": planets['mars'],\n",
    "    \"Jupiter\": planets['jupiter barycenter'],\n",
    "    \"Saturn\": planets['saturn barycenter'],\n",
    "    \"Uranus\": planets['uranus barycenter'],\n",
    "    \"Neptune\": planets['neptune barycenter']\n",
    "}\n",
    "\n",
    "# Set up observer position (e.g., Earth's center)\n",
    "observer = planets['earth']\n",
    "\n",
    "# Get the RA and Dec of each body\n",
    "body_positions = {}\n",
    "\n",
    "for name, body in bodies.items():\n",
    "    astrometric = observer.at(current_time).observe(body)\n",
    "    ra, dec, distance = astrometric.radec()\n",
    "    body_positions[name] = {\n",
    "        \"RA\": ra.hours,  # Right Ascension in hours\n",
    "        \"Dec\": dec.degrees,  # Declination in degrees\n",
    "        \"Distance (AU)\": distance.au  # Distance in Astronomical Units\n",
    "    }\n",
    "\n",
    "# Display results\n",
    "for body, position in body_positions.items():\n",
    "    print(f\"{body}:\")\n",
    "    print(f\"  RA: {position['RA']:.2f} hours\")\n",
    "    print(f\"  Dec: {position['Dec']:.2f} degrees\")\n",
    "    print(f\"  Distance: {position['Distance (AU)']:.2f} AU\")\n",
    "    print()"
   ]
  },
  {
   "cell_type": "code",
   "execution_count": null,
   "metadata": {},
   "outputs": [],
   "source": []
  }
 ],
 "metadata": {
  "kernelspec": {
   "display_name": "base",
   "language": "python",
   "name": "python3"
  },
  "language_info": {
   "codemirror_mode": {
    "name": "ipython",
    "version": 3
   },
   "file_extension": ".py",
   "mimetype": "text/x-python",
   "name": "python",
   "nbconvert_exporter": "python",
   "pygments_lexer": "ipython3",
   "version": "3.12.2"
  }
 },
 "nbformat": 4,
 "nbformat_minor": 2
}
